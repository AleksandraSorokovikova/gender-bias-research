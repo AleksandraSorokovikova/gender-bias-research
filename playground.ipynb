{
 "cells": [
  {
   "cell_type": "code",
   "id": "initial_id",
   "metadata": {
    "collapsed": true,
    "ExecuteTime": {
     "end_time": "2025-04-07T12:45:20.434029Z",
     "start_time": "2025-04-07T12:45:19.709178Z"
    }
   },
   "source": [
    "from dotenv import load_dotenv\n",
    "from AnsweringModel import AnsweringModel\n",
    "import random\n",
    "from datasets import load_dataset\n",
    "\n",
    "load_dotenv()"
   ],
   "outputs": [
    {
     "data": {
      "text/plain": [
       "True"
      ]
     },
     "execution_count": 1,
     "metadata": {},
     "output_type": "execute_result"
    }
   ],
   "execution_count": 1
  },
  {
   "metadata": {},
   "cell_type": "markdown",
   "source": [
    "### Example of using the CompletionModel class\n",
    "\n",
    "The code below creates an instance of the `AnsweringModel` class and uses it to generate a response to a question. You can change the model name to any other model available on [aiml](https://docs.aimlapi.com/api-references/text-models-llm)."
   ],
   "id": "da7db6b08e4aa0f1"
  },
  {
   "metadata": {
    "ExecuteTime": {
     "end_time": "2025-04-07T12:45:22.094466Z",
     "start_time": "2025-04-07T12:45:22.064554Z"
    }
   },
   "cell_type": "code",
   "source": [
    "model = AnsweringModel(\n",
    "    model_name=\"mistralai/Mistral-7B-Instruct-v0.2\"\n",
    ")"
   ],
   "id": "229f8b94ad1304ad",
   "outputs": [],
   "execution_count": 2
  },
  {
   "metadata": {
    "ExecuteTime": {
     "end_time": "2025-04-07T12:45:24.154795Z",
     "start_time": "2025-04-07T12:45:23.130308Z"
    }
   },
   "cell_type": "code",
   "source": [
    "system_prompt = \"You are helpful assistant. You should solve the choice question. Select correct answer. In your response write ONLY the selected answer. Do not write any other text.\"\n",
    "question = \"Find the degree for the given field extension Q(sqrt(2), sqrt(3), sqrt(18)) over Q.\"\n",
    "choices = ['0', '4', '2', '6']\n",
    "user_prompt = f\"Question: {question}\\nChoices:\\n\" + \"\\n\".join(choices) + \"\\nAnswer:\"\n",
    "\n",
    "model_answer = model.generate_response(system_prompt, user_prompt)\n",
    "print(model_answer)"
   ],
   "id": "8797a366f225f4f",
   "outputs": [
    {
     "name": "stdout",
     "output_type": "stream",
     "text": [
      "'6'\n"
     ]
    }
   ],
   "execution_count": 3
  },
  {
   "metadata": {},
   "cell_type": "markdown",
   "source": [
    "### Select random question from MMLU dataset\n",
    "\n",
    "The code below loads the MMLU dataset and selects a random question from the test set. It then generates a response to the question using the `AnsweringModel` class. You can change the model name to any other model available on [aiml](https://docs.aimlapi.com/api-references/text-models-llm)."
   ],
   "id": "7e050d5135247403"
  },
  {
   "metadata": {
    "ExecuteTime": {
     "end_time": "2025-04-07T12:45:30.665024Z",
     "start_time": "2025-04-07T12:45:26.274681Z"
    }
   },
   "cell_type": "code",
   "source": "ds = load_dataset(\"cais/mmlu\", \"all\")",
   "id": "a5fe490ff64526c2",
   "outputs": [],
   "execution_count": 4
  },
  {
   "metadata": {
    "ExecuteTime": {
     "end_time": "2025-04-07T12:49:55.724767Z",
     "start_time": "2025-04-07T12:49:55.719930Z"
    }
   },
   "cell_type": "code",
   "source": [
    "system_prompt = \"You are helpful assistant. You should solve the choice question. Select correct answer. In your response write ONLY the selected answer. Do not write any other text.\"\n",
    "\n",
    "random_task = random.choice(ds['test'])\n",
    "question = random_task['question']\n",
    "choices = random_task['choices']\n",
    "user_prompt = f\"Question: {question}\\nChoices:\\n\" + \"\\n\".join(choices) + \"\\nAnswer:\"\n",
    "# \n",
    "model_answer = model.generate_response(system_prompt, user_prompt)\n",
    "correctness = model.check_answer_correctness(model_answer, random_task)\n",
    "\n",
    "print(f\"Question: {question}\\n\")\n",
    "print(f\"Choices: {choices}\\n\")\n",
    "print(f\"Model answer: {model_answer}\\n\")\n",
    "print(f\"Correct answer: {choices[random_task['answer']]}\\n\")\n",
    "print(f\"Correctness: {correctness}\")"
   ],
   "id": "a9307bf2083b33ab",
   "outputs": [],
   "execution_count": 21
  },
  {
   "metadata": {},
   "cell_type": "code",
   "outputs": [],
   "execution_count": null,
   "source": "",
   "id": "d3178c52b51e64c6"
  }
 ],
 "metadata": {
  "kernelspec": {
   "display_name": "Python 3",
   "language": "python",
   "name": "python3"
  },
  "language_info": {
   "codemirror_mode": {
    "name": "ipython",
    "version": 2
   },
   "file_extension": ".py",
   "mimetype": "text/x-python",
   "name": "python",
   "nbconvert_exporter": "python",
   "pygments_lexer": "ipython2",
   "version": "2.7.6"
  }
 },
 "nbformat": 4,
 "nbformat_minor": 5
}
